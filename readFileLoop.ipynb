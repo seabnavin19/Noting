{
 "cells": [
  {
   "cell_type": "code",
   "execution_count": 1,
   "metadata": {},
   "outputs": [],
   "source": [
    "import pandas as pd"
   ]
  },
  {
   "cell_type": "code",
   "execution_count": 2,
   "metadata": {},
   "outputs": [],
   "source": [
    "file = open(\"guten.txt\",\"r\", encoding='utf-8')\n",
    "raw_data = file.read()\n",
    "file.close()\n",
    "\n",
    "raw_data = raw_data.split('\\n')\n",
    "pairs = [sentence.split('\\t') for sentence in raw_data]"
   ]
  },
  {
   "cell_type": "code",
   "execution_count": 3,
   "metadata": {},
   "outputs": [
    {
     "data": {
      "text/plain": [
       "[[''],\n",
       " ['Emma Woodhouse handsome clever and rich with a comfortable home,'],\n",
       " ['and happy disposition, seemed to unite some of the best blessings'],\n",
       " ['of existence; and had lived nearly twenty-one years in the world'],\n",
       " ['with very little to distress or vex her.']]"
      ]
     },
     "execution_count": 3,
     "metadata": {},
     "output_type": "execute_result"
    }
   ],
   "source": [
    "pairs[0:5]"
   ]
  },
  {
   "cell_type": "code",
   "execution_count": 4,
   "metadata": {},
   "outputs": [],
   "source": [
    "df= pd.DataFrame(pairs,columns=[\"text\"])\n",
    "maxlen=max(df[\"text\"].str.split(\" \").str.len())+2"
   ]
  },
  {
   "cell_type": "code",
   "execution_count": 5,
   "metadata": {},
   "outputs": [],
   "source": [
    "def addPadding(l):\n",
    "    for i in range (len(l)):\n",
    "        sen = l[i][0]\n",
    "        sen= \"<start> \"+sen+\" <end>\"\n",
    "        sen_l=sen.split(\" \")\n",
    "        num_add= maxlen - len(sen_l)\n",
    "        sen = sen+ \" <empty>\"*num_add\n",
    "        l[i]=[sen]\n",
    "    return l\n",
    "   \n",
    "\n"
   ]
  },
  {
   "cell_type": "code",
   "execution_count": 6,
   "metadata": {},
   "outputs": [
    {
     "data": {
      "text/plain": [
       "['<start>  <end> <empty> <empty> <empty> <empty> <empty> <empty> <empty> <empty> <empty> <empty> <empty> <empty> <empty> <empty> <empty> <empty> <empty>']"
      ]
     },
     "execution_count": 6,
     "metadata": {},
     "output_type": "execute_result"
    }
   ],
   "source": [
    "pairs_with_pad= addPadding(pairs)\n",
    "pairs_with_pad[0]"
   ]
  },
  {
   "cell_type": "code",
   "execution_count": null,
   "metadata": {},
   "outputs": [],
   "source": []
  }
 ],
 "metadata": {
  "kernelspec": {
   "display_name": "Python 3.8.8 ('venv': venv)",
   "language": "python",
   "name": "python3"
  },
  "language_info": {
   "codemirror_mode": {
    "name": "ipython",
    "version": 3
   },
   "file_extension": ".py",
   "mimetype": "text/x-python",
   "name": "python",
   "nbconvert_exporter": "python",
   "pygments_lexer": "ipython3",
   "version": "3.8.8"
  },
  "orig_nbformat": 4,
  "vscode": {
   "interpreter": {
    "hash": "87443fd6ee1118f368185d5d1fe72882dc0a7fc47d71d04312571b06ce63048b"
   }
  }
 },
 "nbformat": 4,
 "nbformat_minor": 2
}
